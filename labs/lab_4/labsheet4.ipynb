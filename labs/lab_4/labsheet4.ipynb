{
 "cells": [
  {
   "cell_type": "markdown",
   "metadata": {
    "pycharm": {
     "name": "#%% md\n"
    }
   },
   "source": [
    "# Lab 4: Maximum Likelihood Estimate (MLE)\n",
    "\n",
    "### Introduction\n",
    "\n",
    "In this lab session we shall have a look at how to use the *Maximum Likelihood Estimate (MLE)* method to estimate the parameters of some model, given some observations $D$.\n",
    "\n",
    "<font color=\"red\">NOTE: </font>In the notation $\\mathcal{N} (\\mu, \\sigma^2)$ $\\mu$ refers to the mean and $\\sigma^2$  the variance, not the standard deviation. The standard deviation is $\\sigma = \\sqrt {\\sigma^2}$, i.e. for $\\mathcal{N}(0.5, 0.25)$, the standard deviation is $\\sigma = 0.5$.\n",
    "\n",
    "As usual, let's import the libraries before we start by running the cell below."
   ]
  },
  {
   "cell_type": "code",
   "execution_count": 1,
   "metadata": {
    "pycharm": {
     "name": "#%%\n"
    }
   },
   "outputs": [],
   "source": [
    "from __future__ import print_function # to avoid issues between Python 2 and 3 printing\n",
    "\n",
    "import numpy as np\n",
    "from scipy import stats\n",
    "# Necessary to import Axes3D to use `plt.subplots(subplot_kw={'projection': '3d'})`\n",
    "# as this internally sets up matplotlib for 3D projection, without this import you'll \n",
    "# get an error.\n",
    "from mpl_toolkits.mplot3d import Axes3D\n",
    "import matplotlib.pyplot as plt\n",
    "\n",
    "# show matplotlib figures inline\n",
    "%matplotlib inline"
   ]
  },
  {
   "cell_type": "code",
   "execution_count": 2,
   "metadata": {
    "pycharm": {
     "name": "#%%\n"
    }
   },
   "outputs": [],
   "source": [
    "# By default we set figures to be 7\"x4\" on a 110 dots per inch (DPI) screen \n",
    "# (adjust DPI if you have a high res screen!)\n",
    "plt.rc('figure', figsize=(7, 4), dpi=110)\n",
    "plt.rc('font', size=10)"
   ]
  },
  {
   "cell_type": "markdown",
   "metadata": {
    "pycharm": {
     "name": "#%% md\n"
    }
   },
   "source": [
    "## 1. MLE recipe\n",
    "\n",
    "Let's suppose you're given $n$ one dimensional data points $D = \\{d_0, d_1, ...,  d_{n-1} \\}$ which you believe follow a normal distribution. In this case, your model has two parameters: $\\mu$ and $\\sigma^2$.\n",
    "\n",
    "Given your data $D$, you wish to find the most likely parameters of the normal distribution.\n",
    "Let's assume the standard deviation ($\\sigma$) is 0.5, now estimate the parameter $\\mu$ of the model (the mean of the normal distribution representing your data). \n",
    "\n",
    "Use the Maximum Likelihood Estimate (MLE) formula to show that $\\mu_{ML} = \\frac{1}{n}\\sum_i d_i$.\n",
    "\n",
    "**Hint**: assuming the data points are independent, we have \n",
    "\n",
    "$$p(D|\\mu) = \\prod_i p(d_i | \\mu) = \\prod_i \\mathcal{N}(d_i|\\mu, \\sigma^2)$$\n",
    "\n",
    "Additionally, since this is a convex function, we can analytically find the stationary point that maximises the function where $\\frac{dp(D|\\mu)}{d\\mu} = 0$.\n",
    "\n",
    "**Note:** This should be done on paper (and ideally typed up in $\\LaTeX$ in the cell below), not using Python."
   ]
  },
  {
   "cell_type": "markdown",
   "metadata": {
    "pycharm": {
     "name": "#%% md\n"
    }
   },
   "source": [
    "### Answer\n",
    "\n",
    "Write here your answer using latex notation. Alternatively, write your solution on paper and show it to a TA."
   ]
  },
  {
   "cell_type": "markdown",
   "metadata": {
    "pycharm": {
     "name": "#%% md\n"
    }
   },
   "source": []
  },
  {
   "cell_type": "markdown",
   "metadata": {
    "pycharm": {
     "name": "#%% md\n"
    }
   },
   "source": [
    "## 2. MLE with Python\n",
    "\n",
    "We know want you to write a simple program that calculates $\\mu_{\\text{ML}}$ using Python.\n",
    "\n",
    "Let's now load the data from the file `data1.dat` and let's plot the histogram of the data."
   ]
  },
  {
   "cell_type": "code",
   "execution_count": 3,
   "metadata": {
    "pycharm": {
     "name": "#%%\n"
    }
   },
   "outputs": [
    {
     "name": "stdout",
     "output_type": "stream",
     "text": [
      "[[ 0.49243 ]\n",
      " [ 0.62491 ]\n",
      " [ 0.85002 ]\n",
      " [ 1.2884  ]\n",
      " [ 0.7762  ]\n",
      " [ 0.57076 ]\n",
      " [ 0.27376 ]\n",
      " [ 0.99141 ]\n",
      " [-0.34415 ]\n",
      " [ 0.11251 ]\n",
      " [ 1.0682  ]\n",
      " [ 0.92343 ]\n",
      " [ 0.06158 ]\n",
      " [ 0.96851 ]\n",
      " [ 0.93473 ]\n",
      " [ 0.10785 ]\n",
      " [ 0.66411 ]\n",
      " [ 1.501   ]\n",
      " [ 0.45324 ]\n",
      " [ 0.026227]\n",
      " [ 0.77938 ]\n",
      " [ 0.41992 ]\n",
      " [ 0.52065 ]\n",
      " [ 0.90508 ]\n",
      " [ 0.67258 ]\n",
      " [ 0.50928 ]\n",
      " [ 0.18414 ]\n",
      " [ 0.28987 ]\n",
      " [ 0.18824 ]\n",
      " [ 0.39742 ]\n",
      " [ 1.5803  ]\n",
      " [ 0.77383 ]\n",
      " [ 0.42532 ]\n",
      " [ 0.63607 ]\n",
      " [ 0.82266 ]\n",
      " [ 0.83804 ]\n",
      " [ 0.85936 ]\n",
      " [ 1.2453  ]\n",
      " [ 0.52806 ]\n",
      " [ 0.87756 ]\n",
      " [ 0.39069 ]\n",
      " [-0.22948 ]\n",
      " [ 0.41403 ]\n",
      " [ 1.409   ]\n",
      " [ 0.5227  ]\n",
      " [ 1.2109  ]\n",
      " [ 1.0009  ]\n",
      " [ 0.40137 ]\n",
      " [ 1.6567  ]\n",
      " [ 1.1367  ]]\n",
      "(50, 1)\n"
     ]
    },
    {
     "data": {
      "text/plain": [
       "(array([2., 1., 5., 9., 8., 8., 8., 4., 2., 3.]),\n",
       " array([-0.34415 , -0.144065,  0.05602 ,  0.256105,  0.45619 ,  0.656275,\n",
       "         0.85636 ,  1.056445,  1.25653 ,  1.456615,  1.6567  ]),\n",
       " <BarContainer object of 10 artists>)"
      ]
     },
     "execution_count": 3,
     "metadata": {},
     "output_type": "execute_result"
    },
    {
     "data": {
      "image/png": "[encoded data removed]",
      "text/plain": [
       "<Figure size 770x440 with 1 Axes>"
      ]
     },
     "metadata": {
      "needs_background": "light"
     },
     "output_type": "display_data"
    }
   ],
   "source": [
    "# write your code here\n",
    "file = open(\"data1.dat\")\n",
    "data = np.loadtxt(file)\n",
    "data = data[:,None]\n",
    "print(data)\n",
    "print(data.shape)\n",
    "plt.hist(data)"
   ]
  },
  {
   "cell_type": "markdown",
   "metadata": {
    "pycharm": {
     "name": "#%% md\n"
    }
   },
   "source": [
    "You should now see a histogram approximating a normal distribution. In fact, `data1.data` contains the observations $D$ we talked about above when deriving $\\mu_\\text{ML}$, which we said we believe follows a normal distribution. \n",
    "\n",
    "Write a function `compute_likelihood(D, mu)` that takes a value of $\\mu$ and computes $p(D | \\mu)$ for the data in `data1.dat`, assuming $\\sigma=0.5$.\n",
    "\n",
    "You may use NumPy's function `np.prod` for the calculation."
   ]
  },
  {
   "cell_type": "code",
   "execution_count": 4,
   "metadata": {
    "pycharm": {
     "name": "#%%\n"
    }
   },
   "outputs": [],
   "source": [
    "# write your code here\n",
    "def compute_likelihood(data_set, mu):\n",
    "    likelihood = 1\n",
    "    distribution = stats.norm(mu, 0.5)\n",
    "    for data_each in data_set:\n",
    "        likelihood = likelihood * distribution.pdf(data_each)\n",
    "    return likelihood\n"
   ]
  },
  {
   "cell_type": "markdown",
   "metadata": {
    "pycharm": {
     "name": "#%% md\n"
    }
   },
   "source": [
    "Write a function `loop_likelihood(D)` that calls `compute_likelihood` for each value of $\\mu \\in \\{0.00, 0.01, 0.02, \\ldots , 1.00\\}$, storing *both* the value of $\\mu$ and the corresponding obtained likelihood in a 2D array so that the first column contains the value $\\mu$ and the second the likelihood $p(D|\\mu)$ ."
   ]
  },
  {
   "cell_type": "code",
   "execution_count": 5,
   "metadata": {
    "pycharm": {
     "name": "#%%\n"
    }
   },
   "outputs": [
    {
     "name": "stdout",
     "output_type": "stream",
     "text": [
      "[[0.00000000e+00 8.13741147e-34]\n",
      " [1.00000000e-02 3.10295510e-33]\n",
      " [2.00000000e-02 1.15978855e-32]\n",
      " [3.00000000e-02 4.24909314e-32]\n",
      " [4.00000000e-02 1.52590606e-31]\n",
      " [5.00000000e-02 5.37122633e-31]\n",
      " [6.00000000e-02 1.85324663e-30]\n",
      " [7.00000000e-02 6.26768405e-30]\n",
      " [8.00000000e-02 2.07775857e-29]\n",
      " [9.00000000e-02 6.75145193e-29]\n",
      " [1.00000000e-01 2.15037097e-28]\n",
      " [1.10000000e-01 6.71341827e-28]\n",
      " [1.20000000e-01 2.05441480e-27]\n",
      " [1.30000000e-01 6.16235443e-27]\n",
      " [1.40000000e-01 1.81183783e-26]\n",
      " [1.50000000e-01 5.22162984e-26]\n",
      " [1.60000000e-01 1.47505071e-25]\n",
      " [1.70000000e-01 4.08434042e-25]\n",
      " [1.80000000e-01 1.10853912e-24]\n",
      " [1.90000000e-01 2.94913208e-24]\n",
      " [2.00000000e-01 7.69044614e-24]\n",
      " [2.10000000e-01 1.96572589e-23]\n",
      " [2.20000000e-01 4.92502556e-23]\n",
      " [2.30000000e-01 1.20950629e-22]\n",
      " [2.40000000e-01 2.91153412e-22]\n",
      " [2.50000000e-01 6.86988943e-22]\n",
      " [2.60000000e-01 1.58888228e-21]\n",
      " [2.70000000e-01 3.60203398e-21]\n",
      " [2.80000000e-01 8.00420124e-21]\n",
      " [2.90000000e-01 1.74342112e-20]\n",
      " [3.00000000e-01 3.72220869e-20]\n",
      " [3.10000000e-01 7.78956569e-20]\n",
      " [3.20000000e-01 1.59786425e-19]\n",
      " [3.30000000e-01 3.21277732e-19]\n",
      " [3.40000000e-01 6.33192092e-19]\n",
      " [3.50000000e-01 1.22321965e-18]\n",
      " [3.60000000e-01 2.31626117e-18]\n",
      " [3.70000000e-01 4.29917094e-18]\n",
      " [3.80000000e-01 7.82160737e-18]\n",
      " [3.90000000e-01 1.39483045e-17]\n",
      " [4.00000000e-01 2.43815291e-17]\n",
      " [4.10000000e-01 4.17748181e-17]\n",
      " [4.20000000e-01 7.01588250e-17]\n",
      " [4.30000000e-01 1.15495259e-16]\n",
      " [4.40000000e-01 1.86363182e-16]\n",
      " [4.50000000e-01 2.94761112e-16]\n",
      " [4.60000000e-01 4.56977027e-16]\n",
      " [4.70000000e-01 6.94436691e-16]\n",
      " [4.80000000e-01 1.03439178e-15]\n",
      " [4.90000000e-01 1.51025949e-15]\n",
      " [5.00000000e-01 2.16138530e-15]\n",
      " [5.10000000e-01 3.03198415e-15]\n",
      " [5.20000000e-01 4.16903720e-15]\n",
      " [5.30000000e-01 5.61899600e-15]\n",
      " [5.40000000e-01 7.42327906e-15]\n",
      " [5.50000000e-01 9.61273480e-15]\n",
      " [5.60000000e-01 1.22014725e-14]\n",
      " [5.70000000e-01 1.51806945e-14]\n",
      " [5.80000000e-01 1.85133557e-14]\n",
      " [5.90000000e-01 2.21305782e-14]\n",
      " [6.00000000e-01 2.59307147e-14]\n",
      " [6.10000000e-01 2.97817575e-14]\n",
      " [6.20000000e-01 3.35274304e-14]\n",
      " [6.30000000e-01 3.69968140e-14]\n",
      " [6.40000000e-01 4.00168126e-14]\n",
      " [6.50000000e-01 4.24262622e-14]\n",
      " [6.60000000e-01 4.40901077e-14]\n",
      " [6.70000000e-01 4.49119237e-14]\n",
      " [6.80000000e-01 4.48431659e-14]\n",
      " [6.90000000e-01 4.38879187e-14]\n",
      " [7.00000000e-01 4.21024932e-14]\n",
      " [7.10000000e-01 3.95899319e-14]\n",
      " [7.20000000e-01 3.64901631e-14]\n",
      " [7.30000000e-01 3.29671167e-14]\n",
      " [7.40000000e-01 2.91944459e-14]\n",
      " [7.50000000e-01 2.53415758e-14]\n",
      " [7.60000000e-01 2.15616062e-14]\n",
      " [7.70000000e-01 1.79821953e-14]\n",
      " [7.80000000e-01 1.47000369e-14]\n",
      " [7.90000000e-01 1.17789952e-14]\n",
      " [8.00000000e-01 9.25150056e-15]\n",
      " [8.10000000e-01 7.12246335e-15]\n",
      " [8.20000000e-01 5.37480084e-15]\n",
      " [8.30000000e-01 3.97565455e-15]\n",
      " [8.40000000e-01 2.88249800e-15]\n",
      " [8.50000000e-01 2.04853553e-15]\n",
      " [8.60000000e-01 1.42702669e-15]\n",
      " [8.70000000e-01 9.74394449e-16]\n",
      " [8.80000000e-01 6.52156184e-16]\n",
      " [8.90000000e-01 4.27841141e-16]\n",
      " [9.00000000e-01 2.75123432e-16]\n",
      " [9.10000000e-01 1.73415027e-16]\n",
      " [9.20000000e-01 1.07142058e-16]\n",
      " [9.30000000e-01 6.48854547e-17]\n",
      " [9.40000000e-01 3.85166787e-17]\n",
      " [9.50000000e-01 2.24111643e-17]\n",
      " [9.60000000e-01 1.27818618e-17]\n",
      " [9.70000000e-01 7.14558726e-18]\n",
      " [9.80000000e-01 3.91557770e-18]\n",
      " [9.90000000e-01 2.10313852e-18]\n",
      " [1.00000000e+00 1.10727123e-18]]\n",
      "(101, 2)\n"
     ]
    }
   ],
   "source": [
    "# write your code here\n",
    "def loop_likelihood(data_set):\n",
    "    list_mu = np.arange(0, 1.01, 0.01)\n",
    "    result_likelihood = np.empty([0, 2])\n",
    "\n",
    "    for mu in list_mu:\n",
    "        likelihood = compute_likelihood(data_set, mu)\n",
    "        value = np.array([mu, likelihood[0]])\n",
    "        result_likelihood = np.vstack((result_likelihood, value))\n",
    "\n",
    "    return result_likelihood\n",
    "\n",
    "all_likelihood = loop_likelihood(data)\n",
    "print(all_likelihood)\n",
    "print(all_likelihood.shape)"
   ]
  },
  {
   "cell_type": "markdown",
   "metadata": {
    "pycharm": {
     "name": "#%% md\n"
    }
   },
   "source": [
    "### Questions:\n",
    "\n",
    "- What is the value of the maximum likelihood $\\text{ML} = \\max p(D|\\mu)$ ? \n",
    "\n",
    "- What is $\\mu_{\\text{ML}} = arg\\,max_\\mu \\, p(D|\\mu)$? \n",
    "\n",
    "Make sure you understand the difference between the two."
   ]
  },
  {
   "cell_type": "code",
   "execution_count": 6,
   "metadata": {
    "pycharm": {
     "name": "#%%\n"
    }
   },
   "outputs": [
    {
     "name": "stdout",
     "output_type": "stream",
     "text": [
      "4.4911923712397484e-14\n",
      "0.67\n"
     ]
    }
   ],
   "source": [
    "# write your code here\n",
    "all_likelihood = loop_likelihood(data)\n",
    "y = np.max(all_likelihood[:,1])\n",
    "print(y)\n",
    "mmu = 0\n",
    "for likelihood in all_likelihood:\n",
    "    if likelihood[1] == y:\n",
    "        print(likelihood[0])\n",
    "        mmu = likelihood[0]"
   ]
  },
  {
   "cell_type": "markdown",
   "metadata": {
    "pycharm": {
     "name": "#%% md\n"
    }
   },
   "source": [
    "### Visual interpretation\n",
    "\n",
    "Look at the obtained $\\mu_{\\text{ML}}$ and at the previously plotted histogram. Can you see any relationship between the obtained value and the histogram?\n",
    "\n",
    "Let's now plot $\\mu$ against $p(D|\\mu)$, using the $\\mu$ values you used to compute the likelihoods. Plot also a vertical line located at $\\mu_{\\text{ML}}$. Where does this line lie? Is it a meaningful position?"
   ]
  },
  {
   "cell_type": "code",
   "execution_count": 7,
   "metadata": {
    "pycharm": {
     "name": "#%%\n"
    }
   },
   "outputs": [
    {
     "data": {
      "image/png": "[encoded data removed]",
      "text/plain": [
       "<Figure size 770x440 with 1 Axes>"
      ]
     },
     "metadata": {
      "needs_background": "light"
     },
     "output_type": "display_data"
    }
   ],
   "source": [
    "# write your code here\n",
    "\n",
    "fig, ax = plt.subplots()\n",
    "#myhist = ax.hist(data)\n",
    "\n",
    "line = ax.plot(all_likelihood[:,0], all_likelihood[:,1], c='red')\n",
    "plt.axvline(mmu)\n",
    "plt.show()"
   ]
  },
  {
   "cell_type": "markdown",
   "metadata": {
    "pycharm": {
     "name": "#%% md\n"
    }
   },
   "source": [
    "### Comparison with MLE recipe\n",
    "\n",
    "Now implement the MLE recipe for $\\mu_\\text{ML}$ you solved at the beginning of this sheet to find the value of $\\mu_{ML}$ (note that this should be just one line of code!).\n",
    "\n",
    "Compare this value with that obtained previously. Do the values match? "
   ]
  },
  {
   "cell_type": "code",
   "execution_count": 8,
   "metadata": {
    "pycharm": {
     "name": "#%%\n"
    }
   },
   "outputs": [
    {
     "name": "stdout",
     "output_type": "stream",
     "text": [
      "[ 0.67423394 33.711697  ]\n"
     ]
    }
   ],
   "source": [
    "# write your code here\n",
    "MLEmu = sum(data) / data.shape\n",
    "print(MLEmu)"
   ]
  },
  {
   "cell_type": "markdown",
   "metadata": {
    "pycharm": {
     "name": "#%% md\n"
    }
   },
   "source": []
  },
  {
   "cell_type": "markdown",
   "metadata": {
    "pycharm": {
     "name": "#%% md\n"
    }
   },
   "source": [
    "# 3. Posterior probability\n",
    "\n",
    "Let's suppose now we have some prior knowledge regarding our parameter $\\mu$. More precisely, our belief is that the probability density function (pdf) $p(\\mu)$ modelling our parameter is also given by a normal distribution.\n",
    "\n",
    "Assuming that $\\mu \\sim \\mathcal{N}(0.5,0.01)$, write two functions, `compute_posterior(D, mu)` and `loop_posterior(D)`, to find $\\mu_{\\text{MAP}} = \\arg \\max_{\\mu} p(D|\\mu)p(\\mu)$."
   ]
  },
  {
   "cell_type": "code",
   "execution_count": 9,
   "metadata": {
    "pycharm": {
     "name": "#%%\n"
    }
   },
   "outputs": [
    {
     "name": "stdout",
     "output_type": "stream",
     "text": [
      "0.616180927934138\n"
     ]
    }
   ],
   "source": [
    "# write your code here\n",
    "def loop_posterior(data_set):\n",
    "    list_mu1 = np.random.randn(1000) * 0.1 + 0.5\n",
    "    dis = stats.norm(0.5, 0.1)\n",
    "\n",
    "    list_mu1 = sorted(list_mu1, )\n",
    "\n",
    "    result_likelihood = np.empty([0, 2])\n",
    "\n",
    "    for mu in list_mu1:\n",
    "        likelihood = compute_likelihood(data_set, mu) * dis.pdf(mu)\n",
    "        value = np.array([mu, likelihood[0]])\n",
    "        result_likelihood = np.vstack((result_likelihood, value))\n",
    "\n",
    "    return result_likelihood\n",
    "\n",
    "loop_posterio = loop_posterior(data)\n",
    "y = np.max(loop_posterio[:,1])\n",
    "posteriror = 0\n",
    "for likelihood in loop_posterio:\n",
    "    if likelihood[1] == y:\n",
    "        posteriror = likelihood[0]\n",
    "print(posteriror)\n"
   ]
  },
  {
   "cell_type": "markdown",
   "metadata": {
    "pycharm": {
     "name": "#%% md\n"
    }
   },
   "source": [
    "### Visual interpretation\n",
    "\n",
    "\n",
    "Now plot $\\mu$ against both $p(D|\\mu)$ and $p(D|\\mu)p(\\mu)$ similar to the graph below.\n",
    "![MLE](mle.png)"
   ]
  },
  {
   "cell_type": "code",
   "execution_count": 10,
   "metadata": {
    "pycharm": {
     "name": "#%%\n"
    }
   },
   "outputs": [
    {
     "data": {
      "image/png": "[encoded data removed]",
      "text/plain": [
       "<Figure size 770x440 with 1 Axes>"
      ]
     },
     "metadata": {
      "needs_background": "light"
     },
     "output_type": "display_data"
    }
   ],
   "source": [
    "# write your code here\n",
    "fig, ax = plt.subplots()\n",
    "#myhist = ax.hist(data)\n",
    "plt.plot(all_likelihood[:,0], all_likelihood[:,1], c='red', label=\"P(D|theta)\")\n",
    "plt.plot(loop_posterio[:,0], loop_posterio[:,1], c='green', label=\"P(D|theta)P(theta)\")\n",
    "plt.axvline(mmu, label=\"mu of P(D|theta)\")\n",
    "plt.axvline(posteriror, label=\"mu of P(D|theta)P(theta)\", c=\"maroon\")\n",
    "plt.legend(loc=\"upper left\")\n",
    "plt.show()"
   ]
  },
  {
   "cell_type": "markdown",
   "metadata": {
    "pycharm": {
     "name": "#%% md\n"
    }
   },
   "source": [
    "Repeat now the above calculations for `data2.dat` and `data3.dat`. \n",
    "\n",
    "For both files, plot $\\mu$ against both $p(D|\\mu)$ and $p(D|\\mu)p(\\mu)$."
   ]
  },
  {
   "cell_type": "code",
   "execution_count": 11,
   "metadata": {
    "pycharm": {
     "name": "#%%\n"
    }
   },
   "outputs": [],
   "source": [
    "# write your code here\n",
    "def find_max(np_array):\n",
    "    max_y = np.max(np_array[:,1])\n",
    "\n",
    "    for value in np_array:\n",
    "        if value[1] == max_y:\n",
    "            return value[0]\n",
    "\n",
    "\n",
    "def draw_graph(mle, posterior):\n",
    "    # write your code here\n",
    "    figddd, axddd = plt.subplots()\n",
    "    #myhist = ax.hist(data)\n",
    "    max_mle = find_max(mle)\n",
    "    max_posterior = find_max(posterior)\n",
    "    plt.plot(mle[:,0], mle[:,1], c='red', label=\"P(D|theta)\")\n",
    "    plt.plot(posterior[:,0], posterior[:,1], c='green', label=\"P(D|theta)P(theta)\")\n",
    "    plt.axvline(max_mle, label=\"mu of P(D|theta)\")\n",
    "    plt.axvline(max_posterior, label=\"mu of P(D|theta)P(theta)\", c=\"maroon\")\n",
    "    plt.legend(loc=\"upper left\")\n",
    "    plt.show()\n",
    "\n",
    "\n",
    "def plot_data(file_name):\n",
    "    file_data = open(file_name)\n",
    "    data_array = np.loadtxt(file_data)\n",
    "    data_array = data_array[:,None]\n",
    "\n",
    "    mle_data = loop_likelihood(data_array)\n",
    "    posterior_data = loop_posterior(data_array)\n",
    "\n",
    "    draw_graph(mle_data, posterior_data)"
   ]
  },
  {
   "cell_type": "code",
   "execution_count": 12,
   "metadata": {
    "pycharm": {
     "name": "#%%\n"
    }
   },
   "outputs": [
    {
     "data": {
      "image/png": "[encoded data removed]",
      "text/plain": [
       "<Figure size 770x440 with 1 Axes>"
      ]
     },
     "metadata": {
      "needs_background": "light"
     },
     "output_type": "display_data"
    }
   ],
   "source": [
    "plot_data(\"data2.dat\")"
   ]
  },
  {
   "cell_type": "markdown",
   "metadata": {
    "pycharm": {
     "name": "#%% md\n"
    }
   },
   "source": [
    "### Quest\n",
    "ion\n",
    "\n",
    "Observe the results obtained on `data2` and `data3`. What can we tell by looking at the figures you plotted above?"
   ]
  },
  {
   "cell_type": "markdown",
   "metadata": {
    "pycharm": {
     "name": "#%% md\n"
    }
   },
   "source": [
    "### CORRECT ANSWER\n",
    "\n",
    "When the likelihood is further from the suggested prior, we are less confident about our measurements, and thus we observe a larger distance between the two distributions' mean."
   ]
  },
  {
   "cell_type": "markdown",
   "metadata": {
    "pycharm": {
     "name": "#%% md\n"
    }
   },
   "source": [
    "## EXTRA 1\n",
    "\n",
    "Until now, you assumed that our data was generated from a normal distribution with $\\sigma^2 = 0.25$. \n",
    "\n",
    "Remove this assumption and estimate $\\theta_{\\text{MAP}} = [\\mu_{\\text{MAP}}, \\sigma_{\\text{MAP}}]$ experimentally by looping through different values of $\\mu$ and $\\sigma$. \n",
    "\n",
    "Assume the pdf $p(\\sigma)$ is given by $\\mathcal{N}(0.5, 0.16)$.\n",
    "\n",
    "You may need to use `np.nanargmax` instead of `np.argmax`."
   ]
  },
  {
   "cell_type": "code",
   "execution_count": 13,
   "metadata": {
    "pycharm": {
     "name": "#%%\n"
    }
   },
   "outputs": [],
   "source": [
    "# write your code here"
   ]
  },
  {
   "cell_type": "markdown",
   "metadata": {
    "pycharm": {
     "name": "#%% md\n"
    }
   },
   "source": [
    "## EXTRA 2\n",
    "\n",
    "Plot ($\\mu$, $\\sigma$) against $p(D|\\theta)p(\\theta)$ similar to the mesh graph below (use the function `Axes3D.plot_surface`).\n",
    "![MLE mesh](mle2.png)"
   ]
  },
  {
   "cell_type": "code",
   "execution_count": 14,
   "metadata": {
    "pycharm": {
     "name": "#%%\n"
    }
   },
   "outputs": [],
   "source": [
    "# write your code here\n",
    "dataBBB = np.array([[-1.0, 10.3], [-0.3, 5.3], [0.3, -0.2], [1.0, -5.3]])"
   ]
  }
 ],
 "metadata": {
  "kernelspec": {
   "display_name": "Python 3 (ipykernel)",
   "language": "python",
   "name": "python3"
  },
  "language_info": {
   "codemirror_mode": {
    "name": "ipython",
    "version": 3
   },
   "file_extension": ".py",
   "mimetype": "text/x-python",
   "name": "python",
   "nbconvert_exporter": "python",
   "pygments_lexer": "ipython3",
   "version": "3.9.11"
  }
 },
 "nbformat": 4,
 "nbformat_minor": 4
}